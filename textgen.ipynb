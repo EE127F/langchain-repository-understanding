{
 "cells": [
  {
   "attachments": {},
   "cell_type": "markdown",
   "metadata": {},
   "source": [
    "# Generating text from a vector db\n",
    "This is a simple proof of concept for a QA from the rollux tutorials"
   ]
  },
  {
   "cell_type": "code",
   "execution_count": 1,
   "metadata": {},
   "outputs": [],
   "source": [
    "import os\n",
    "import getpass\n",
    "\n",
    "from langchain.embeddings.openai import OpenAIEmbeddings\n",
    "from langchain.vectorstores import Chroma \n",
    "\n",
    "os.environ['OPENAI_API_KEY'] = getpass.getpass('OpenAI API Key:')\n"
   ]
  },
  {
   "attachments": {},
   "cell_type": "markdown",
   "metadata": {},
   "source": [
    "## Clone github repository locally "
   ]
  },
  {
   "cell_type": "code",
   "execution_count": 2,
   "metadata": {},
   "outputs": [],
   "source": [
    "repo_url='https://github.com/SYS-Labs/rollux-tutorial'"
   ]
  },
  {
   "cell_type": "code",
   "execution_count": 3,
   "metadata": {},
   "outputs": [],
   "source": [
    "from git import Repo\n",
    "\n",
    "# Cloning the base repository\n",
    "\n",
    "# if repo already exists, assign Repo(path), if not, run Repo.clone_from\n",
    "# this conditional is here simply for convenience in case the notebook is run more than once\n",
    " \n",
    "if os.path.exists(f'./repos/{repo_url.split(\"/\")[-1]}'):\n",
    "    repo = Repo(f'./repos/{repo_url.split(\"/\")[-1]}')\n",
    "else:\n",
    "    repo = Repo.clone_from(\n",
    "        repo_url, to_path=f'./repos/{repo_url.split(\"/\")[-1]}'\n",
    "    )\n",
    "repo_path_local = f'./repos/{repo_url.split(\"/\")[-1]}/'\n",
    "\n"
   ]
  },
  {
   "attachments": {},
   "cell_type": "markdown",
   "metadata": {},
   "source": [
    "## Loading the raw repository into documents"
   ]
  },
  {
   "cell_type": "code",
   "execution_count": 4,
   "metadata": {},
   "outputs": [],
   "source": [
    "# allow user to specify the branch to use\n",
    "# default to main if not specified\n",
    "\n",
    "repo_branch = 'main'"
   ]
  },
  {
   "cell_type": "code",
   "execution_count": 7,
   "metadata": {},
   "outputs": [],
   "source": [
    "from langchain.document_loaders import GitLoader\n",
    "\n",
    "git_loader = GitLoader(repo_path=repo_path_local, branch=repo_branch,file_filter=lambda x: x.endswith('.md'))"
   ]
  },
  {
   "cell_type": "code",
   "execution_count": 8,
   "metadata": {},
   "outputs": [],
   "source": [
    "code_documents = git_loader.load()"
   ]
  },
  {
   "cell_type": "code",
   "execution_count": 9,
   "metadata": {},
   "outputs": [
    {
     "name": "stdout",
     "output_type": "stream",
     "text": [
      "Counter({'.md': 17})\n"
     ]
    }
   ],
   "source": [
    "file_types = [doc.metadata['file_type'] for doc in code_documents]\n",
    "file_types.sort()\n",
    "\n",
    "# print the number of occurences of each element in the list\n",
    "from collections import Counter\n",
    "\n",
    "type_counts = Counter(file_types)\n",
    "print(type_counts)\n",
    "\n"
   ]
  },
  {
   "cell_type": "code",
   "execution_count": 10,
   "metadata": {},
   "outputs": [
    {
     "name": "stdout",
     "output_type": "stream",
     "text": [
      "{'.md': 158182}\n"
     ]
    }
   ],
   "source": [
    "# Create a dict with the number of characters per file type, as an easy proxy for token count\n",
    "\n",
    "characters_by_file_type = {}\n",
    "for doc in code_documents:\n",
    "    file_type = doc.metadata['file_type']\n",
    "    page_content_length = len(doc.page_content)\n",
    "\n",
    "    if file_type in characters_by_file_type:\n",
    "        characters_by_file_type[file_type] += page_content_length\n",
    "    else:\n",
    "        characters_by_file_type[file_type] = page_content_length\n",
    "\n",
    "print(characters_by_file_type)\n"
   ]
  },
  {
   "cell_type": "code",
   "execution_count": 11,
   "metadata": {},
   "outputs": [
    {
     "name": "stdout",
     "output_type": "stream",
     "text": [
      "{'.md': 158182}\n"
     ]
    }
   ],
   "source": [
    "# sort dictionary by value\n",
    "characters_by_file_type = dict(sorted(characters_by_file_type.items(), key=lambda item: item[1], reverse=True))\n",
    "print(characters_by_file_type)"
   ]
  },
  {
   "cell_type": "code",
   "execution_count": 12,
   "metadata": {},
   "outputs": [],
   "source": [
    "# relevant_code = [documents for documents in code_documents if documents.metadata['file_type'] not in doc_ignore_types]\n",
    "relevant_code = code_documents"
   ]
  },
  {
   "cell_type": "code",
   "execution_count": 13,
   "metadata": {},
   "outputs": [
    {
     "name": "stdout",
     "output_type": "stream",
     "text": [
      "[444, 1132, 2046, 3075, 5818, 7140, 7518, 7847, 8055, 8373, 12332, 12377, 12735, 13819, 15575, 17110, 22786]\n"
     ]
    }
   ],
   "source": [
    "content = []\n",
    "for doc in relevant_code:\n",
    "    content.append(len(doc.page_content))    \n",
    "print(sorted(content))"
   ]
  },
  {
   "attachments": {},
   "cell_type": "markdown",
   "metadata": {},
   "source": [
    "## As we can see, some of the documents are very long to be included in an LLM prompt\n",
    "The content will have to be compressed or split before it ever interacts with a language model."
   ]
  },
  {
   "cell_type": "code",
   "execution_count": 14,
   "metadata": {},
   "outputs": [
    {
     "data": {
      "text/plain": [
       "<langchain.text_splitter.RecursiveCharacterTextSplitter at 0x10da55350>"
      ]
     },
     "execution_count": 14,
     "metadata": {},
     "output_type": "execute_result"
    }
   ],
   "source": [
    "# We split the code using a default code splitter.\n",
    "# In this case, it is likely to work well enough for the main filetypes in the codebase. \n",
    "# Otherwise, separators for other langauges can easily be defined here. \n",
    "\n",
    "from langchain.text_splitter import RecursiveCharacterTextSplitter\n",
    "\n",
    "markdown_splitter= RecursiveCharacterTextSplitter(chunk_size=800)\n",
    "\n",
    "markdown_splitter.from_language('markdown')\n"
   ]
  },
  {
   "cell_type": "code",
   "execution_count": 17,
   "metadata": {},
   "outputs": [],
   "source": [
    "relevant_code_split = markdown_splitter.split(relevant_code) \n"
   ]
  },
  {
   "cell_type": "code",
   "execution_count": 18,
   "metadata": {},
   "outputs": [],
   "source": [
    "lengths = []\n",
    "for i in range(len(relevant_code_split)):\n",
    "    if type(relevant_code_split[i]) != list:\n",
    "        lengths.append(len(relevant_code_split[i].page_content))\n",
    "    elif type(relevant_code_split[i]) == list:\n",
    "        print(len(relevant_code_split[i]))"
   ]
  },
  {
   "cell_type": "code",
   "execution_count": 21,
   "metadata": {},
   "outputs": [
    {
     "name": "stdout",
     "output_type": "stream",
     "text": [
      "[701, 703, 704, 705, 709, 711, 712, 712, 714, 714, 714, 716, 718, 718, 719, 719, 721, 722, 722, 724, 725, 726, 726, 726, 728, 728, 730, 732, 733, 734, 735, 735, 736, 737, 738, 740, 740, 742, 742, 742, 744, 745, 746, 750, 750, 750, 751, 752, 752, 752, 752, 752, 752, 752, 752, 753, 755, 755, 755, 756, 757, 757, 757, 758, 758, 758, 759, 761, 761, 762, 763, 763, 763, 764, 764, 765, 765, 765, 767, 767, 768, 768, 768, 768, 768, 768, 769, 769, 771, 771, 771, 772, 773, 773, 774, 774, 774, 774, 775, 775, 777, 777, 777, 778, 779, 779, 780, 780, 780, 781, 781, 782, 783, 784, 784, 784, 784, 784, 785, 785, 785, 785, 786, 786, 787, 787, 787, 789, 789, 789, 790, 790, 790, 790, 791, 791, 792, 792, 793, 793, 793, 793, 794, 794, 795, 795, 795, 796, 796, 796, 796, 796, 797, 798]\n"
     ]
    }
   ],
   "source": [
    "# Just making sure our splitters actually worked\n",
    "\n",
    "content = [len(d.page_content) for d in relevant_code_split if len(d.page_content) > 700]\n",
    "print(sorted(content))"
   ]
  },
  {
   "cell_type": "code",
   "execution_count": 22,
   "metadata": {},
   "outputs": [],
   "source": [
    "from langchain.vectorstores import Chroma\n",
    "from langchain.embeddings import OpenAIEmbeddings\n",
    "\n",
    "embeddings = OpenAIEmbeddings()\n",
    "\n",
    "tutorials_db = Chroma.from_documents(relevant_code_split, embedding=embeddings,persist_directory='./chroma_code/rolux-tutorial')"
   ]
  },
  {
   "attachments": {},
   "cell_type": "markdown",
   "metadata": {},
   "source": [
    "The process above may take a few minutes.\n",
    "\n",
    "But once we do it once, we can load the persisted database from disk, and use it as normal."
   ]
  },
  {
   "cell_type": "code",
   "execution_count": 26,
   "metadata": {},
   "outputs": [],
   "source": [
    "# embeddings = OpenAIEmbeddings()\n",
    "# persist_directory = \"./chroma_code/split/index\"\n",
    "# chroma_code = Chroma(persist_directory=persist_directory, embedding_function=embeddings)"
   ]
  },
  {
   "cell_type": "code",
   "execution_count": 23,
   "metadata": {},
   "outputs": [],
   "source": [
    "from langchain.callbacks import get_openai_callback\n",
    "from langchain import OpenAI\n",
    "from langchain.chat_models import ChatOpenAI\n",
    "\n",
    "gpt4 = ChatOpenAI(model_name=\"gpt-4\",temperature=0) # Waitlist only\n",
    "gpt3 = ChatOpenAI(model_name=\"gpt-3.5-turbo\",temperature=0)\n",
    "davinci = OpenAI(model_name=\"text-davinci-003\",temperature=0)\n",
    "davinci002 = OpenAI(model_name=\"text-davinci-002\",temperature=0)\n",
    "curie = OpenAI(model_name=\"text-curie-001\",temperature=0)\n"
   ]
  },
  {
   "cell_type": "code",
   "execution_count": 32,
   "metadata": {},
   "outputs": [],
   "source": [
    "base_retriever = tutorials_db.as_retriever()\n",
    "base_retriever.search_kwargs['distance_metric'] = 'cos'\n",
    "base_retriever.search_kwargs['fetch_k'] = 15 \n",
    "base_retriever.search_kwargs['maximal_marginal_relevance'] = True\n",
    "base_retriever.search_kwargs['k'] = 6 "
   ]
  },
  {
   "attachments": {},
   "cell_type": "markdown",
   "metadata": {},
   "source": [
    "## RetrievalQA + base retriever (gpt-3.5-turbo)"
   ]
  },
  {
   "cell_type": "code",
   "execution_count": 33,
   "metadata": {},
   "outputs": [],
   "source": [
    "from langchain.chains import RetrievalQA\n",
    "\n",
    "code_qa = RetrievalQA.from_chain_type(llm=gpt3,chain_type='stuff', retriever=base_retriever)"
   ]
  },
  {
   "cell_type": "code",
   "execution_count": 34,
   "metadata": {},
   "outputs": [
    {
     "name": "stdout",
     "output_type": "stream",
     "text": [
      "\n",
      "\n",
      "\u001b[1m> Entering new RetrievalQA chain...\u001b[0m\n",
      "\n",
      "\n",
      "\u001b[1m> Entering new StuffDocumentsChain chain...\u001b[0m\n",
      "\n",
      "\n",
      "\u001b[1m> Entering new LLMChain chain...\u001b[0m\n",
      "Prompt after formatting:\n",
      "\u001b[32;1m\u001b[1;3mSystem: Use the following pieces of context to answer the users question. \n",
      "If you don't know the answer, just say that you don't know, don't try to make up an answer.\n",
      "----------------\n",
      "For an L1/L2 token pair to work on the Standard Bridge, there has to be a layer of original mint (where the minting and burning of tokens is controlled by the business logic), and a bridged layer where the Standard Bridge controls minting and burning.\n",
      "The most common configuration is to have L1 as the layer of original mint, and L2 as the bridged layer, this allows for ERC-20 contracts that were written with no knowledge of Optimism to be bridged.\n",
      "\n",
      "## Conclusion\n",
      "\n",
      "You should now be able to write applications that use our SDK and bridge to transfer ERC-20 assets between layer 1 and layer 2.\n",
      "\n",
      "Note that for withdrawals of a commonly used ERC-20 token (or ETH) you would probably want to use a [third party bridge](https://www.optimism.io/apps/bridges) for higher speed and lower cost.\n",
      "Here is the API documentation for some of those bridges:\n",
      "\n",
      "* [Hop](https://docs.hop.exchange/js-sdk/getting-started)\n",
      "* [Synapse](https://docs.synapseprotocol.com/bridge-sdk/sdk-reference/bridge-synapsebridge)\n",
      "* [Across](https://docs.across.to/bridge/developers/across-sdk)\n",
      "* [Celer Bridge](https://cbridge-docs.celer.network/developer/cbridge-sdk)\n",
      "\n",
      "* [Hop](https://docs.hop.exchange/js-sdk/getting-started)\n",
      "* [Synapse](https://docs.synapseprotocol.com/bridge-sdk/sdk-reference/bridge-synapsebridge)\n",
      "* [Across](https://docs.across.to/bridge/developers/across-sdk)\n",
      "* [Celer Bridge](https://cbridge-docs.celer.network/developer/cbridge-sdk)\n",
      "\n",
      "bridges: {\n",
      "         ETH: {\n",
      "            Adapter: sdk.ETHBridgeAdapter,\n",
      "            l1Bridge: l1Network.contracts.L1StandardBridge,\n",
      "            l2Bridge: l2Network.contracts.L2StandardBridge,\n",
      "         },\n",
      "         Standard: {\n",
      "            Adapter: sdk.StandardBridgeAdapter,\n",
      "            l1Bridge:\n",
      "               l1Network.contracts.L1StandardBridge,\n",
      "            l2Bridge: l2Network.contracts.L2StandardBridge,\n",
      "         }\n",
      "      }\n",
      "   })\n",
      "   ```\n",
      "\n",
      "# Bridging your Custom ERC20 token to Optimism using the Standard Bridge\n",
      "\n",
      "[![Discord](https://img.shields.io/discord/667044843901681675.svg?color=768AD4&label=discord&logo=https%3A%2F%2Fdiscordapp.com%2Fassets%2F8c9701b98ad4372b58f13fd9f65f966e.svg)](https://discord-gateway.optimism.io)\n",
      "[![Twitter Follow](https://img.shields.io/twitter/follow/optimismFND.svg?label=optimismFND&style=social)](https://twitter.com/optimismFND)\n",
      "\n",
      "The most common configuration is to have L1 as the layer of original mint, and L2 as the bridged layer, this allows for ERC-20 contracts that were written with no knowledge of Optimism to be bridged.\n",
      "The contract on the bridged layer has to implement either the legacy [`IL2StandardERC20`](https://github.com/sidhujag/optimism/blob/develop/packages/contracts/contracts/standards/IL2StandardERC20.sol) interface (only if the bridged layer is L2) or the new [`IOptimismMintableERC20`](https://github.com/sidhujag/optimism/blob/develop/packages/contracts-bedrock/contracts/universal/IOptimismMintableERC20.sol) interface.\n",
      "Human: Explain the bridge\u001b[0m\n",
      "\n",
      "\u001b[1m> Finished chain.\u001b[0m\n",
      "\n",
      "\u001b[1m> Finished chain.\u001b[0m\n",
      "\n",
      "\u001b[1m> Finished chain.\u001b[0m\n"
     ]
    },
    {
     "data": {
      "text/plain": [
       "'The bridge is a mechanism that allows for the transfer of assets between two different blockchain networks. In this case, the bridge is used to transfer ERC-20 tokens between layer 1 and layer 2 of the Optimism network. The bridge consists of two layers: the layer of original mint, where the minting and burning of tokens is controlled by the business logic, and the bridged layer, where the Standard Bridge controls minting and burning. The most common configuration is to have layer 1 as the layer of original mint and layer 2 as the bridged layer, which allows for ERC-20 contracts that were written with no knowledge of Optimism to be bridged. To bridge a custom ERC-20 token to Optimism using the Standard Bridge, the contract on the bridged layer has to implement either the legacy `IL2StandardERC20` interface (only if the bridged layer is L2) or the new `IOptimismMintableERC20` interface.'"
      ]
     },
     "execution_count": 34,
     "metadata": {},
     "output_type": "execute_result"
    }
   ],
   "source": [
    "code_qa.run('Explain the bridge')"
   ]
  },
  {
   "cell_type": "code",
   "execution_count": 35,
   "metadata": {},
   "outputs": [
    {
     "name": "stdout",
     "output_type": "stream",
     "text": [
      "\n",
      "\n",
      "\u001b[1m> Entering new RetrievalQA chain...\u001b[0m\n",
      "\n",
      "\n",
      "\u001b[1m> Entering new StuffDocumentsChain chain...\u001b[0m\n",
      "\n",
      "\n",
      "\u001b[1m> Entering new LLMChain chain...\u001b[0m\n",
      "Prompt after formatting:\n",
      "\u001b[32;1m\u001b[1;3mSystem: Use the following pieces of context to answer the users question. \n",
      "If you don't know the answer, just say that you don't know, don't try to make up an answer.\n",
      "----------------\n",
      "As you can see in the different development stacks below, the way you deploy contracts and interact with them on Rollux is almost identical to the way you do it with L1 Syscoin.\n",
      "The most visible difference is that you have to specify a different endpoint (of course).\n",
      "The list of other differences is [here](https://community.optimism.io/docs/developers/build/differences/).\n",
      "\n",
      "## Development stacks\n",
      "\n",
      "- [Apeworx](#apeworx)\n",
      "- [Brownie](#brownie)\n",
      "- [Foundry](#foundry)\n",
      "- [Hardhat](#hardhat)\n",
      "- [Remix](#remix)\n",
      "- [Truffle](#truffle)\n",
      "- [Waffle](#waffle)\n",
      "\n",
      "### Hardhat\n",
      "\n",
      "In [Hardhat](https://hardhat.org/) you use a configuration similar to [this one](hardhat).\n",
      "\n",
      "#### Connecting to Rollux\n",
      "\n",
      "Follow these steps to add Rollux Tanenbaum support to an existing Hardhat project (or a newly created one).\n",
      "\n",
      "# Getting started developing for Rollux\n",
      "\n",
      "[![Discord](https://img.shields.io/discord/1087373765014454322)](https://discord.gg/rollux)\n",
      "[![Twitter Follow](https://img.shields.io/twitter/follow/RolluxL2?style=social)](https://twitter.com/RolluxL2)\n",
      "\n",
      "This tutorial teaches you the basics of Rollux development.\n",
      "Rollux is based upon Optimism Bedrock and is [EVM equivalent](https://medium.com/ethereum-optimism/introducing-evm-equivalence-5c2021deb306), meaning we run a slightly modified version of the same `geth` you run on Syscoin mainnet.\n",
      "Therefore, the differences between Rollux development and Syscoin development are minor.\n",
      "But a few differences [do exist](https://community.optimism.io/docs/developers/build/differences/#).\n",
      "\n",
      "\n",
      "## Rollux endpoint URL\n",
      "\n",
      "You can view this transaction [on Etherscan](https://rollux.tanenbaum.io/tx/0xa31eda15162e681e78a52e35b63c3b3379e23705129c19d186790089519ac7d7).\n",
      "\n",
      "\n",
      "1. In Optimism terminology *deposit* refers to any transaction going from L1 Syscoin to Rollux, and *withdrawal* refers to any transaction going from Rollux to L1 Syscoin, whether or not there are assets attached.\n",
      "   To see if actual assets were transferred, you can parse the event log.\n",
      "\n",
      "   The event names and their parameters are usually available on Etherscan, but you can't just copy and paste, you need to make a few changes:\n",
      "\n",
      "   - Add `event` before each event.\n",
      "   - Change the `index_topic_<n>` strings to `indexed`, and put them after the type rather than before.\n",
      "\n",
      "# Writing your first contract on Rollux\n",
      "\n",
      "[![Discord](https://img.shields.io/discord/1087373765014454322)](https://discord.gg/rollux)\n",
      "[![Twitter Follow](https://img.shields.io/twitter/follow/RolluxL2?style=social)](https://twitter.com/RolluxL2)\n",
      "\n",
      "\n",
      "This tutorial assumes that you know how to program, but that you've never dealt with smart contracts, much less written one.\n",
      "If you are already familiar with Solidity [go here](../getting-started) for a tutorial that teaches you only how to use Rollux with the tools you already know.\n",
      "\n",
      "## Setup\n",
      "\n",
      "### Wallet\n",
      "\n",
      "### `withdrawERC20`\n",
      "\n",
      "This function shows how to withdraw ERC-20 from Rollux to Syscoin.\n",
      "The withdrawal process has these stages:\n",
      "\n",
      "1. Submit the withdrawal transaction on Optimism.\n",
      "1. Wait until the state root with the withdrawal is published (and the status changes to `optimismSDK.MessageStatus.READY_TO_PROVE`).\n",
      "1. Submit the proof on L1 using `crossChainMessenger.proveMessage()`.\n",
      "1. Wait the fault challenge period.\n",
      "   When this period is over, the status becomes `optimismSDK.MessageStatus.READY_FOR_RELAY`\n",
      "1. Finalize to cause the actual withdrawal on L1 using `crossChainMessenger.proveMessage()`.\n",
      "\n",
      "[You can read more about this in the documentation](https://community.optimism.io/docs/developers/bedrock/how-is-bedrock-different/#two-phase-withdrawals).\n",
      "\n",
      "You can view this transaction [on Etherscan](https://goerli.etherscan.io/tx/0xec821514b495c2c49dcba9b2c1a0955b85d02cd516748bc89c373d534ee878d4).\n",
      "   \n",
      "\n",
      "1. In Optimism terminology *deposit* refers to any transaction going from L1 Syscoin to Rollux, and *withdrawal* refers to any transaction going from Rollux to L1 Syscoin, whether or not there are assets attached.\n",
      "   To see if actual assets were transferred, you can parse the event log.\n",
      "   This is how you parse the event log of the L2 transaction.\n",
      "\n",
      "   The event names and their parameters are usually available on Etherscan, but you can't just copy and paste, you need to make a few changes:\n",
      "\n",
      "   - Add `event` before each event.\n",
      "   - Change the `index_topic_<n>` strings to `indexed`, and put them after the type rather than before.\n",
      "Human: How is rollux different from optimism?\u001b[0m\n",
      "\n",
      "\u001b[1m> Finished chain.\u001b[0m\n",
      "\n",
      "\u001b[1m> Finished chain.\u001b[0m\n",
      "\n",
      "\u001b[1m> Finished chain.\u001b[0m\n"
     ]
    },
    {
     "data": {
      "text/plain": [
       "'Rollux is based on Optimism Bedrock and is EVM equivalent, meaning it runs a slightly modified version of the same `geth` you run on Syscoin mainnet. Therefore, the differences between Rollux development and Syscoin development are minor. However, there are a few differences between Rollux and Optimism, which you can find listed in the following link: https://community.optimism.io/docs/developers/build/differences/.'"
      ]
     },
     "execution_count": 35,
     "metadata": {},
     "output_type": "execute_result"
    }
   ],
   "source": [
    "code_qa.run('How is rollux different from optimism?')"
   ]
  },
  {
   "cell_type": "code",
   "execution_count": null,
   "metadata": {},
   "outputs": [],
   "source": []
  }
 ],
 "metadata": {
  "kernelspec": {
   "display_name": "Python 3 (ipykernel)",
   "language": "python",
   "name": "python3"
  },
  "language_info": {
   "codemirror_mode": {
    "name": "ipython",
    "version": 3
   },
   "file_extension": ".py",
   "mimetype": "text/x-python",
   "name": "python",
   "nbconvert_exporter": "python",
   "pygments_lexer": "ipython3",
   "version": "3.11.3"
  },
  "orig_nbformat": 4
 },
 "nbformat": 4,
 "nbformat_minor": 2
}
